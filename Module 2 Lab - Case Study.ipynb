{
 "cells": [
  {
   "cell_type": "markdown",
   "metadata": {},
   "source": [
    "# Module 2 Lab - Case Study \n",
    "## This lab will execute a code that will ask and accept user input and run if, else, and while statements. "
   ]
  },
  {
   "cell_type": "code",
   "execution_count": 2,
   "metadata": {},
   "outputs": [
    {
     "name": "stdout",
     "output_type": "stream",
     "text": [
      "Congradulations Angela Gale!!! You've made the Dean's List!\n",
      "Congradulations Trinity Howard! You've made Honor Roll!\n",
      "Congradulations Edward Thomas! You've made Honor Roll!\n",
      "Congradulations Mark Johnson!!! You've made the Dean's List!\n",
      "Congradulations David Walker! You've made Honor Roll!\n"
     ]
    }
   ],
   "source": [
    "\"\"\" \n",
    "Angela Gale \n",
    "Module 2 Lab - Case Study \n",
    "Code Description: \n",
    "This Python code will ask for and accept \n",
    "student names and GPAs to determine whether they qualify for \n",
    "the Dean's List or Honor Roll\n",
    "using if, else, and while statements.\n",
    "\"\"\"\n",
    "\n",
    "\n",
    "while True: \n",
    "    student_lastname = input(\"Enter your last name ['ZZZ' to quit]: \")\n",
    "    if student_lastname.upper() == \"ZZZ\":\n",
    "        break \n",
    "\n",
    "    student_firstname = input(\"Enter your first name: \")\n",
    "\n",
    "    gpa = float(input(\"Enter your GPA: \"))\n",
    "\n",
    "    if gpa >= 3.5: \n",
    "        print(f\"Congradulations {student_firstname} {student_lastname}!!! You've made the Dean's List!\")\n",
    "    elif 3.25 <= gpa < 3.5: \n",
    "        print(f\"Congradulations {student_firstname} {student_lastname}! You've made Honor Roll!\")\n"
   ]
  }
 ],
 "metadata": {
  "kernelspec": {
   "display_name": "Python 3",
   "language": "python",
   "name": "python3"
  },
  "language_info": {
   "codemirror_mode": {
    "name": "ipython",
    "version": 3
   },
   "file_extension": ".py",
   "mimetype": "text/x-python",
   "name": "python",
   "nbconvert_exporter": "python",
   "pygments_lexer": "ipython3",
   "version": "3.11.2"
  }
 },
 "nbformat": 4,
 "nbformat_minor": 2
}
