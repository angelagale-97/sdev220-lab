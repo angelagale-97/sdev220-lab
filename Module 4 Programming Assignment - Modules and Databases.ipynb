{
 "cells": [
  {
   "cell_type": "markdown",
   "id": "51fc76af",
   "metadata": {},
   "source": [
    "# Module 4 Programming Assignment - Modules and Databases\n",
    "## This assignment is from the book sections 11.1-11.2 and 16.8"
   ]
  },
  {
   "cell_type": "markdown",
   "id": "eb74283c",
   "metadata": {},
   "source": [
    "Exercise 11.1 \n",
    "Create a file called zoo.py. In it, define a function called hours() that prints the string 'Open 9-5 daily'. Then, use the interactive interpreter to import the zoo module and call its hours() function."
   ]
  },
  {
   "cell_type": "code",
   "execution_count": null,
   "id": "a694f3b9",
   "metadata": {},
   "outputs": [
    {
     "name": "stdout",
     "output_type": "stream",
     "text": [
      "Open 9-5 daily.\n"
     ]
    }
   ],
   "source": [
    "\"\"\" \n",
    "This code will import a python file \n",
    "then call the function within that file.\n",
    "\"\"\"\n",
    "\n",
    "import zoo      # Importing the python file.\n",
    "\n",
    "zoo.hours()     # Calling the function within the file.\n"
   ]
  },
  {
   "cell_type": "markdown",
   "id": "b48b177d",
   "metadata": {},
   "source": [
    "Exercise 11.2 \n",
    "In the interactive interpreter, import the zoo module as menagerie and call its hours() function."
   ]
  },
  {
   "cell_type": "code",
   "execution_count": null,
   "id": "45ef9aec",
   "metadata": {},
   "outputs": [
    {
     "name": "stdout",
     "output_type": "stream",
     "text": [
      "Open 9-5 daily.\n"
     ]
    }
   ],
   "source": [
    "\"\"\" \n",
    "This code will import a python file, rename that file,\n",
    "then call the function within that file \n",
    "\"\"\"\n",
    "\n",
    "import zoo as menagerie     # Importing the python file with a new name.\n",
    "\n",
    "menagerie.hours()           # Calling the function with that new name."
   ]
  },
  {
   "cell_type": "markdown",
   "id": "2136872e",
   "metadata": {},
   "source": [
    "Exercise 16.8\n",
    "Use the sqlalchemy module to connect to the sqlite3 database books.db that you just made in exercise 16.4. As in 16.6, select and print the title column from the book table in alphabetical order."
   ]
  },
  {
   "cell_type": "code",
   "execution_count": null,
   "id": "74cd2cae",
   "metadata": {},
   "outputs": [],
   "source": [
    "\"\"\" \n",
    "This code creates a database with sqlite \n",
    "then inserts data into the table.\n",
    "\"\"\"\n",
    "\n",
    "import sqlite3                          # Imports sqlite and creates a connection to the database.\n",
    "conn = sqlite3.connect('books.db')\n",
    "curs = conn.cursor()\n",
    "\n",
    "\n",
    "\n",
    "curs.execute('''                        \n",
    "    CREATE TABLE books (\n",
    "            title TEXT,\n",
    "            author TEXT,\n",
    "            year INTEGER\n",
    "    )\n",
    "''')                                    # Creates the books table.\n",
    "\n",
    "ins = 'INSERT INTO books (title, author, year) VALUES (?, ?, ?)'    # Insert statements for book data.\n",
    "curs.execute(ins, ('The Weirdstone of Brisingamen', 'Alan Garner', 1960))\n",
    "curs.execute(ins, ('Perdido Street Station', 'China Miéville', 2000))\n",
    "curs.execute(ins, ('Thud!', 'Terry Pratchett', 2005))\n",
    "curs.execute(ins, ('The Spellman Files', 'Lisa Lutz', 2007))\n",
    "curs.execute(ins, ('Small Gods', 'Terry Pratchett', 1992))\n",
    "\n",
    "conn.commit()\n",
    "conn.close()"
   ]
  },
  {
   "cell_type": "code",
   "execution_count": null,
   "id": "3587002c",
   "metadata": {},
   "outputs": [
    {
     "name": "stdout",
     "output_type": "stream",
     "text": [
      "Collecting sqlalchemy\n",
      "  Downloading sqlalchemy-2.0.40-cp311-cp311-win_amd64.whl.metadata (9.9 kB)\n",
      "Collecting greenlet>=1 (from sqlalchemy)\n",
      "  Downloading greenlet-3.1.1-cp311-cp311-win_amd64.whl.metadata (3.9 kB)\n",
      "Requirement already satisfied: typing-extensions>=4.6.0 in c:\\users\\andre\\appdata\\local\\programs\\python\\python311\\lib\\site-packages (from sqlalchemy) (4.12.2)\n",
      "Downloading sqlalchemy-2.0.40-cp311-cp311-win_amd64.whl (2.1 MB)\n",
      "   ---------------------------------------- 0.0/2.1 MB ? eta -:--:--\n",
      "   ---------------------------------------- 2.1/2.1 MB 23.7 MB/s eta 0:00:00\n",
      "Downloading greenlet-3.1.1-cp311-cp311-win_amd64.whl (298 kB)\n",
      "Installing collected packages: greenlet, sqlalchemy\n",
      "Successfully installed greenlet-3.1.1 sqlalchemy-2.0.40\n"
     ]
    }
   ],
   "source": [
    "!pip install sqlalchemy # Installs sqlalchemy."
   ]
  },
  {
   "cell_type": "code",
   "execution_count": null,
   "id": "f8090f16",
   "metadata": {},
   "outputs": [
    {
     "name": "stdout",
     "output_type": "stream",
     "text": [
      "Perdido Street Station\n",
      "Small Gods\n",
      "The Spellman Files\n",
      "The Weirdstone of Brisingamen\n",
      "Thud!\n"
     ]
    }
   ],
   "source": [
    "\"\"\" \n",
    "This code will use sqlalchemy to connect to the books.db, \n",
    "pass through a query for the book titles,\n",
    "then prints the titles in alphabetical order.\n",
    "\"\"\"\n",
    "\n",
    "\n",
    "from sqlalchemy import create_engine, MetaData, Table       # Connects to the existing database.\n",
    "from sqlalchemy.orm import sessionmaker                     # Imported for creating a session.\n",
    "\n",
    "engine = create_engine('sqlite:///books.db')                # Creates a connection engine to the books.db.\n",
    "conn = engine.connect()\n",
    "metadata = MetaData()                                       # Creates a metadata object to store the information.\n",
    "books = Table('books', metadata, autoload_with = engine)\n",
    "\n",
    "Session = sessionmaker(bind=engine)                         # Creates the session.\n",
    "session = Session()\n",
    "\n",
    "query = session.query(books.c.title).order_by(books.c.title)        # Runs the query for the titles.\n",
    "\n",
    "for title in query:                                                 # Loop for the results.\n",
    "    print(title[0])\n",
    "\n",
    "session.close()\n",
    "\n",
    "\n",
    "\n",
    "\n",
    "\n",
    "\n",
    "\n"
   ]
  }
 ],
 "metadata": {
  "kernelspec": {
   "display_name": "Python 3",
   "language": "python",
   "name": "python3"
  },
  "language_info": {
   "codemirror_mode": {
    "name": "ipython",
    "version": 3
   },
   "file_extension": ".py",
   "mimetype": "text/x-python",
   "name": "python",
   "nbconvert_exporter": "python",
   "pygments_lexer": "ipython3",
   "version": "3.11.2"
  }
 },
 "nbformat": 4,
 "nbformat_minor": 5
}
