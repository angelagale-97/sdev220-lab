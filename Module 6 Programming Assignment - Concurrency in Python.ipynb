{
 "cells": [
  {
   "cell_type": "markdown",
   "id": "dc3523c5",
   "metadata": {},
   "source": [
    "# Module 6 Programming Assignment - Concurrency in Python \n",
    "## This assignment is from the book sections 13.1-13.3 and 15.1 "
   ]
  },
  {
   "cell_type": "markdown",
   "id": "fdfdd8e3",
   "metadata": {},
   "source": [
    "Exercise 13.1 \n",
    "Write the current date as a string to the text file today.txt."
   ]
  },
  {
   "cell_type": "code",
   "execution_count": 13,
   "id": "8b96cfb4",
   "metadata": {},
   "outputs": [],
   "source": [
    "\"\"\" This code will print out the current date as a string.\"\"\"\n",
    "from datetime import date, datetime\n",
    "today = date.today()\n",
    "today_string = today.isoformat()\n",
    "with open('today.txt', 'wt') as output:\n",
    "    print(today_string, file=output)\n"
   ]
  },
  {
   "cell_type": "markdown",
   "id": "71980cff",
   "metadata": {},
   "source": [
    "Exercise 13.2 \n",
    "Read the text file today.txt into the string today_string."
   ]
  },
  {
   "cell_type": "code",
   "execution_count": 14,
   "id": "99ababa5",
   "metadata": {},
   "outputs": [],
   "source": [
    "\"\"\" This code will read a text file into a string variable.\"\"\"\n",
    "\n",
    "with open('today.txt', 'rt') as input: \n",
    "    today_string = input.read()\n",
    "   "
   ]
  },
  {
   "cell_type": "markdown",
   "id": "33d092a5",
   "metadata": {},
   "source": [
    "Exercise 13.3 \n",
    "Parse the date from today_string."
   ]
  },
  {
   "cell_type": "code",
   "execution_count": 15,
   "id": "d359909c",
   "metadata": {},
   "outputs": [
    {
     "data": {
      "text/plain": [
       "datetime.datetime(2025, 4, 28, 0, 0)"
      ]
     },
     "execution_count": 15,
     "metadata": {},
     "output_type": "execute_result"
    }
   ],
   "source": [
    "\"\"\" This code will parse the date from the string variable.\"\"\"\n",
    "\n",
    "fmt = \"%Y-%m-%d\\n\"\n",
    "datetime.strptime(today_string, fmt)\n",
    "\n"
   ]
  },
  {
   "cell_type": "markdown",
   "id": "57504d67",
   "metadata": {},
   "source": [
    "Exercise 15.1 \n",
    "Use multiprocessing to create three separate processes. Make each one wait a random number of seconds between zero and one, print the current time, and then exit."
   ]
  },
  {
   "cell_type": "code",
   "execution_count": 7,
   "id": "a79fc91e",
   "metadata": {},
   "outputs": [],
   "source": [
    "\"\"\" \n",
    "This code will create three separate processes using multiprocessing. \n",
    "Each process will wait a random number of seconds between a given range, \n",
    "then print the current time and exit.\n",
    "\"\"\"\n",
    "import multiprocessing \n",
    "import random \n",
    "\n",
    "def now(seconds): \n",
    "    from datetime import datetime, timezone\n",
    "    from time import sleep\n",
    "    sleep(seconds)\n",
    "    print(f\"waiting for\", seconds, \"seconds. The time now is\", datetime.now(timezone.utc))\n",
    "\n",
    "if __name__ == \"__main__\": \n",
    "    for num in range(3): \n",
    "        seconds = random.random()\n",
    "        process = multiprocessing.Process(target=now, args=(seconds,))\n",
    "        process.start()"
   ]
  }
 ],
 "metadata": {
  "kernelspec": {
   "display_name": "Python 3",
   "language": "python",
   "name": "python3"
  },
  "language_info": {
   "codemirror_mode": {
    "name": "ipython",
    "version": 3
   },
   "file_extension": ".py",
   "mimetype": "text/x-python",
   "name": "python",
   "nbconvert_exporter": "python",
   "pygments_lexer": "ipython3",
   "version": "3.13.3"
  }
 },
 "nbformat": 4,
 "nbformat_minor": 5
}
