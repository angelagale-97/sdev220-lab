{
 "cells": [
  {
   "cell_type": "markdown",
   "metadata": {},
   "source": [
    "# Module 2 Programming Assignment - Loops and Conditionals \n",
    "## This assignment is from the book including sections 4.1-4.2 and 6.1-6.3."
   ]
  },
  {
   "cell_type": "markdown",
   "metadata": {},
   "source": [
    "Exercise 4.1 \n",
    "Choose a number between 1 and 10 and assign it to the variable secret. Then, select another number between 1 and 10 and assign it to the variable guess. Next, write the conditional tests (if, else, and elif) to print the string 'too low' if guess is less than secret, 'too high' if greater than secret, and 'just right' if equal to secret."
   ]
  },
  {
   "cell_type": "code",
   "execution_count": null,
   "metadata": {},
   "outputs": [
    {
     "name": "stdout",
     "output_type": "stream",
     "text": [
      "too high\n"
     ]
    }
   ],
   "source": [
    "\"\"\"\n",
    "This code has two variables that are assigned a number \n",
    "then uses if, elif, and else conditions to\n",
    "compare each value to against one another. \n",
    "\"\"\"\n",
    "secret = 3\n",
    "guess = 6\n",
    "if guess < secret: \n",
    "    print(\"too low\")\n",
    "elif guess > secret: \n",
    "    print(\"too high\")\n",
    "else: \n",
    "    print(\"just right\")\n",
    "    "
   ]
  },
  {
   "cell_type": "markdown",
   "metadata": {},
   "source": [
    "Exercise 4.2 \n",
    "Assign True or False to the variables small and green. Write some if/else statements to print which of these matches those choices: cherry, pea, watermelon, pumpkin."
   ]
  },
  {
   "cell_type": "code",
   "execution_count": null,
   "metadata": {},
   "outputs": [
    {
     "name": "stdout",
     "output_type": "stream",
     "text": [
      "cherry and pea\n"
     ]
    }
   ],
   "source": [
    "\"\"\" \n",
    "This code tests two varaibles that are assigned \n",
    "Boolean values with if/else statements then \n",
    "prints different outputs depending on the Boolean. \n",
    "\"\"\"\n",
    "small = True \n",
    "green = False\n",
    "if small is True: \n",
    "    print(\"cherry and pea\")\n",
    "elif green is False: \n",
    "    print(\"cherry and pumpkin\")\n",
    "else: \n",
    "    print(\"watermelon\")\n"
   ]
  },
  {
   "cell_type": "markdown",
   "metadata": {},
   "source": [
    "Exercise 6.1 \n",
    "Use a for loop to print the values of the list [3, 2, 1, 0]."
   ]
  },
  {
   "cell_type": "code",
   "execution_count": null,
   "metadata": {},
   "outputs": [
    {
     "name": "stdout",
     "output_type": "stream",
     "text": [
      "3\n",
      "2\n",
      "1\n",
      "0\n"
     ]
    }
   ],
   "source": [
    "\"\"\" \n",
    "This code uses a for loop to print the values in a list. \n",
    "\"\"\"\n",
    "numbers = [3,2,1,0]\n",
    "for number in numbers: \n",
    "    print(number)\n",
    "    \n"
   ]
  },
  {
   "cell_type": "markdown",
   "metadata": {},
   "source": [
    "Exercise 6.2\n",
    "Assign the value 7 to the variable guess_me, and the value 1 to the variable number. Write a while loop that compares number with guess_me. Print 'too low' if number is less than guess me. If number equals guess_me, print 'found it!' and then exit the loop. If number is greater than guess_me, print 'oops' and then exit the loop. Increment number at the end of the loop."
   ]
  },
  {
   "cell_type": "code",
   "execution_count": null,
   "metadata": {},
   "outputs": [
    {
     "name": "stdout",
     "output_type": "stream",
     "text": [
      "too low\n",
      "too low\n",
      "too low\n",
      "too low\n",
      "too low\n",
      "too low\n",
      "found it!\n"
     ]
    }
   ],
   "source": [
    "\"\"\" \n",
    "This code uses a while loop and if/else statements\n",
    "to test two variables against one another along with \n",
    "an iterator until a specifc value is reached.\n",
    "\"\"\"\n",
    "guess_me = 7 \n",
    "number = 1 \n",
    "while True:\n",
    "    if number < guess_me: \n",
    "        print(\"too low\")\n",
    "    elif number == guess_me: \n",
    "        print(\"found it!\")\n",
    "        break \n",
    "    else: \n",
    "        print(\"oops\")\n",
    "        break\n",
    "    number += 1 \n",
    "\n"
   ]
  },
  {
   "cell_type": "markdown",
   "metadata": {},
   "source": [
    "Exercise 6.3\n",
    "Assign the value 5 to the variable guess_me. Use a for loop to iterate a variable called number over range(10). If number is less than guess_me, print 'too low'. If it equals guess_me, print found it! and then break out of the for loop. If number is greater than guess_me, print 'oops' and then exit the loop."
   ]
  },
  {
   "cell_type": "code",
   "execution_count": null,
   "metadata": {},
   "outputs": [
    {
     "name": "stdout",
     "output_type": "stream",
     "text": [
      "too low\n",
      "too low\n",
      "too low\n",
      "too low\n",
      "too low\n",
      "found it!\n"
     ]
    }
   ],
   "source": [
    "\"\"\" \n",
    "This code uses a foor loop with a range value and if/else statements \n",
    "to find the value of a variable.\n",
    "\"\"\"\n",
    "guess_me = 5 \n",
    "for number in range (10): \n",
    "    if number < guess_me: \n",
    "        print(\"too low\")\n",
    "    elif number == guess_me: \n",
    "        print(\"found it!\")\n",
    "        break\n",
    "    else: \n",
    "        print(\"oops\")\n",
    "        break\n"
   ]
  }
 ],
 "metadata": {
  "kernelspec": {
   "display_name": "Python 3",
   "language": "python",
   "name": "python3"
  },
  "language_info": {
   "codemirror_mode": {
    "name": "ipython",
    "version": 3
   },
   "file_extension": ".py",
   "mimetype": "text/x-python",
   "name": "python",
   "nbconvert_exporter": "python",
   "pygments_lexer": "ipython3",
   "version": "3.11.2"
  }
 },
 "nbformat": 4,
 "nbformat_minor": 2
}
