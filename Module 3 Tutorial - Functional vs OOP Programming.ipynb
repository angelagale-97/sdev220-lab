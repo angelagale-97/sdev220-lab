{
 "cells": [
  {
   "cell_type": "markdown",
   "id": "4d8a9976",
   "metadata": {},
   "source": [
    "# Module 3 Tutorial - Functional vs OOP Programming \n",
    "## This assignment has an exercise exploring classes and objects with sorting an array and learning lambda expressions with a binary search. "
   ]
  },
  {
   "cell_type": "markdown",
   "id": "ac737f6b",
   "metadata": {},
   "source": [
    "Sorting an array: Given an array arr[] consisting of only 0s, 1s, and 2s. The task is to sort the array, i.e., put all 0s first, then all 1s and all 2s in last."
   ]
  },
  {
   "cell_type": "code",
   "execution_count": null,
   "id": "511a2d81",
   "metadata": {},
   "outputs": [
    {
     "name": "stdout",
     "output_type": "stream",
     "text": [
      "[0, 0, 0, 1, 1, 1, 2, 2, 2]\n"
     ]
    }
   ],
   "source": [
    "\"\"\" \n",
    "This code will use a class called sort\n",
    "that will arrange an array in ascending order. \n",
    "The method of this code will traverse \n",
    "through the array with one pass. \n",
    "\"\"\"\n",
    "\n",
    "def sort(arr):                      # Class to sort the array.\n",
    "    n = len(arr)                    # 'n' is the length of the array.\n",
    "    low = 0                         # These are the pointers. \n",
    "    mid = 0 \n",
    "    hi = n - 1\n",
    "\n",
    "    while mid <= hi:                # This while loop will sort through all the elements of the array.\n",
    "        if arr[mid] == 0:           # This is the low section for 0's.\n",
    "            arr[low], arr[mid] = arr[mid], arr[low]\n",
    "            low = low + 1 \n",
    "            mid = mid + 1 \n",
    "        elif arr[mid] == 1:         # This is the mid section for 1's.\n",
    "            mid = mid + 1 \n",
    "        else: \n",
    "            arr[mid], arr[hi] = arr[hi], arr[mid]   # This is the hi section for 2's.\n",
    "            hi = hi - 1\n",
    "\n",
    "    return arr\n"
   ]
  },
  {
   "cell_type": "code",
   "execution_count": 8,
   "id": "033b097a",
   "metadata": {},
   "outputs": [
    {
     "name": "stdout",
     "output_type": "stream",
     "text": [
      "[0, 0, 1, 1, 2, 2]\n"
     ]
    }
   ],
   "source": [
    "\"\"\" \n",
    "Example #1 \n",
    "\"\"\"\n",
    "arr = [0, 1, 2, 0, 1, 2]            # Example array.\n",
    "arr = sort(arr)                     # Calls the sort function.  \n",
    "print(arr)                          # Prints the sorted array.\n"
   ]
  },
  {
   "cell_type": "code",
   "execution_count": null,
   "id": "f4ed79b3",
   "metadata": {},
   "outputs": [
    {
     "name": "stdout",
     "output_type": "stream",
     "text": [
      "[0, 0, 0, 0, 0, 1, 1, 1, 1, 1, 2, 2]\n"
     ]
    }
   ],
   "source": [
    "\"\"\"\n",
    "Example #2\n",
    "\"\"\"\n",
    "arr = [0, 1, 1, 0, 1, 2, 1, 2, 0, 0, 0, 1]  # Example array.\n",
    "arr = sort(arr)                             # Calls the sort function. \n",
    "print(arr)                                  # Prints the sorted array."
   ]
  },
  {
   "cell_type": "markdown",
   "id": "ca94a143",
   "metadata": {},
   "source": [
    "Binary search: Given a sorted array arr and an integer k, find the position(0-based indexing) at which k is present in the array using binary search."
   ]
  },
  {
   "cell_type": "code",
   "execution_count": null,
   "id": "e3c04710",
   "metadata": {},
   "outputs": [],
   "source": [
    "\"\"\" \n",
    "This code will find the position of a given integer \n",
    "within an array using the binary search method.\n",
    "\"\"\"\n",
    "class Answer:                           # This is the class. \n",
    "    def bin_search(self, arr, k):       # This is the method with the parameters.\n",
    "        left, right = 0, len(arr) - 1   # Left is the leftmost index and right is the rightmost index.\n",
    "        result = -1                     # This is the variable that holds the index.\n",
    "        \n",
    "        while left <= right:                    # This is the binary search loop.\n",
    "            mid = left + (right - left) // 2    # This calculates the middle element of the array.\n",
    "            if arr[mid] == k:                   # Checks to see if k is the middle element.\n",
    "                result = mid \n",
    "                right = mid - 1 \n",
    "            elif arr[mid] < k:                  # Checks to see if the search should move right.\n",
    "                left = mid + 1 \n",
    "            else: \n",
    "                right = mid - 1                 # Checks to see if the search should move to the left.\n",
    "        return result \n"
   ]
  },
  {
   "cell_type": "code",
   "execution_count": null,
   "id": "c50c4dd8",
   "metadata": {},
   "outputs": [
    {
     "name": "stdout",
     "output_type": "stream",
     "text": [
      "3\n"
     ]
    }
   ],
   "source": [
    "\"\"\" \n",
    "Example #1\n",
    "\"\"\"\n",
    "answer = Answer()                   # Instance for the Answer class.\n",
    "arr = [1, 2, 3, 4, 5]               # Example array.\n",
    "k = 4                               # Example search element.\n",
    "result = answer.bin_search(arr, k)  # Calls the method.\n",
    "print(result)\n"
   ]
  },
  {
   "cell_type": "code",
   "execution_count": null,
   "id": "7da1d339",
   "metadata": {},
   "outputs": [
    {
     "name": "stdout",
     "output_type": "stream",
     "text": [
      "-1\n"
     ]
    }
   ],
   "source": [
    "\"\"\" \n",
    "Example #2\n",
    "\"\"\"\n",
    "answer = Answer()                   # Instance for the Answer class. \n",
    "arr = [11, 22, 33, 44, 55]          # Example array. \n",
    "k = 445                             # Example search element. \n",
    "result = answer.bin_search(arr, k)  # Calls the method.\n",
    "print(result)\n"
   ]
  },
  {
   "cell_type": "code",
   "execution_count": null,
   "id": "5ce730ad",
   "metadata": {},
   "outputs": [
    {
     "name": "stdout",
     "output_type": "stream",
     "text": [
      "0\n"
     ]
    }
   ],
   "source": [
    "\"\"\" \n",
    "Example #3\n",
    "\"\"\"\n",
    "answer = Answer()                   # Instance for the Answer class. \n",
    "arr = [1, 1, 1, 1, 2]               # Example array.\n",
    "k = 1                               # Example search element. \n",
    "result = answer.bin_search(arr, k)  # Calls the method.\n",
    "print(result)"
   ]
  }
 ],
 "metadata": {
  "kernelspec": {
   "display_name": "Python 3",
   "language": "python",
   "name": "python3"
  },
  "language_info": {
   "codemirror_mode": {
    "name": "ipython",
    "version": 3
   },
   "file_extension": ".py",
   "mimetype": "text/x-python",
   "name": "python",
   "nbconvert_exporter": "python",
   "pygments_lexer": "ipython3",
   "version": "3.11.2"
  }
 },
 "nbformat": 4,
 "nbformat_minor": 5
}
