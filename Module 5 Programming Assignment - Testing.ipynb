{
 "cells": [
  {
   "cell_type": "markdown",
   "id": "778271df",
   "metadata": {},
   "source": [
    "# Module 5 Programming Assignment - Testing \n",
    "## This assignment is from the link: https://realpython.com/python-testing/#toc\n",
    "## Completed sections: \n",
    "1. testing your code\n",
    "2. writing your first test \n",
    "3. executing your first test "
   ]
  },
  {
   "cell_type": "markdown",
   "id": "8a0e5f50",
   "metadata": {},
   "source": [
    "## Testing Your Code "
   ]
  },
  {
   "cell_type": "code",
   "execution_count": 5,
   "id": "0865a2e5",
   "metadata": {},
   "outputs": [
    {
     "name": "stdout",
     "output_type": "stream",
     "text": [
      "Everything passed\n"
     ]
    }
   ],
   "source": [
    "# test_sum.py\n",
    "\n",
    "\"\"\" \n",
    "This code will define a function to test the sum of a set of numbers.\n",
    "\"\"\"\n",
    "\n",
    "def test_sum(): \n",
    "    assert sum([2, 4, 6]) == 12, \"Should be 12\"\n",
    "\n",
    "if __name__ == \"__main__\":\n",
    "    test_sum()\n",
    "    print(\"Everything passed\")"
   ]
  },
  {
   "cell_type": "markdown",
   "id": "aa193242",
   "metadata": {},
   "source": [
    "This is the shell output from executing test_sum.py: \n",
    "\n",
    "C:\\Users\\andre\\OneDrive\\sdev220-lab>python test_sum.py\n",
    "Everything passed"
   ]
  },
  {
   "cell_type": "markdown",
   "id": "f2a2ec92",
   "metadata": {},
   "source": [
    "The result from this test shows that the test passed since the values met the conditions of the assertion. "
   ]
  },
  {
   "cell_type": "code",
   "execution_count": null,
   "id": "92b974f0",
   "metadata": {},
   "outputs": [],
   "source": [
    "# test_sum_2.py \n",
    "\n",
    "\"\"\" \n",
    "This code will define two test functions, \n",
    "one as a list and the other as a tuple.\n",
    "\"\"\"\n",
    "\n",
    "def test_sum():\n",
    "    assert sum([2, 4, 6]) == 12, \"Should be 12\"\n",
    "\n",
    "def test_sum_tuple():\n",
    "    assert sum((2, 3, 6)) == 12, \"Should be 12\"\n",
    "\n",
    "if __name__ == \"__main__\":\n",
    "    test_sum()\n",
    "    test_sum_tuple()\n",
    "    print(\"Everything passed\")\n",
    "\n",
    "__main__()"
   ]
  },
  {
   "cell_type": "markdown",
   "id": "0fd681bc",
   "metadata": {},
   "source": [
    "This is the shell output from executing test_sum_2.py: \n",
    "\n",
    "C:\\Users\\andre\\OneDrive\\sdev220-lab>python test_sum_2.py\n",
    "Traceback (most recent call last):\n",
    "  File \"C:\\Users\\andre\\OneDrive\\sdev220-lab\\test_sum_2.py\", line 9, in <module>\n",
    "    test_sum_tuple()\n",
    "  File \"C:\\Users\\andre\\OneDrive\\sdev220-lab\\test_sum_2.py\", line 5, in test_sum_tuple\n",
    "    assert sum((2, 3, 6)) == 12, \"Should be 12\"\n",
    "           ^^^^^^^^^^^^^^^^^^^^\n",
    "AssertionError: Should be 12"
   ]
  },
  {
   "cell_type": "markdown",
   "id": "08f7a022",
   "metadata": {},
   "source": [
    "The result of this test shows that the test_sum_tuple test had an assertion error where the value did not match. "
   ]
  },
  {
   "cell_type": "code",
   "execution_count": null,
   "id": "c9750cee",
   "metadata": {},
   "outputs": [],
   "source": [
    "# test_sum_unittest.py\n",
    "\n",
    "\"\"\" \n",
    "This code will first import unittest from the library, \n",
    "create a class to inherit from TestCase, convert functions to methods,\n",
    "use the assertEqual() method, and finally change the entry point to unittest.main().\n",
    "\"\"\"\n",
    "\n",
    "import unittest\n",
    "\n",
    "class TestSum(unittest.TestCase): \n",
    "\n",
    "    def test_sum(self): \n",
    "        self.assertEqual(sum([2, 4, 6]), 12, \"Should be 12\")\n",
    "\n",
    "    def test_sum_tuple(self): \n",
    "        self.assertEqual(sum((2, 3, 6)), 12, \"Should be 12\")\n",
    "\n",
    "if __name__ == \"__main__\":\n",
    "    unittest.main()"
   ]
  },
  {
   "cell_type": "markdown",
   "id": "6160c210",
   "metadata": {},
   "source": [
    "## This is the shell output from executing test_sum_unittest.py:\n",
    "\n",
    "C:\\Users\\andre\\OneDrive\\sdev220-lab>python test_sum_unittest.py\n",
    ".F\n",
    "======================================================================\n",
    "FAIL: test_sum_tuple (__main__.TestSum.test_sum_tuple)\n",
    "----------------------------------------------------------------------\n",
    "Traceback (most recent call last):\n",
    "  File \"C:\\Users\\andre\\OneDrive\\sdev220-lab\\test_sum_unittest.py\", line 9, in test_sum_tuple\n",
    "    self.assertEqual(sum((2, 3, 6)), 12, \"Should be 12\")\n",
    "AssertionError: 11 != 12 : Should be 12\n",
    "\n",
    "----------------------------------------------------------------------\n",
    "Ran 2 tests in 0.002s\n",
    "\n",
    "FAILED (failures=1)"
   ]
  },
  {
   "cell_type": "markdown",
   "id": "9e1c5ab6",
   "metadata": {},
   "source": [
    "The result of this test shows that two test were ran within the unittest code and one failed. It indicated the test that failed as test_sum_tuple with the assertion error."
   ]
  },
  {
   "cell_type": "markdown",
   "id": "05bb8f3e",
   "metadata": {},
   "source": [
    "## This is the shell output from executing with nose2: \n",
    "\n",
    "C:\\Users\\andre\\OneDrive\\sdev220-lab> python -m nose2\n",
    "..F.F\n",
    "======================================================================\n",
    "FAIL: test_sum_2.test_sum_tuple\n",
    "----------------------------------------------------------------------\n",
    "Traceback (most recent call last):\n",
    "  File \"C:\\Users\\andre\\OneDrive\\sdev220-lab\\test_sum_2.py\", line 5, in test_sum_tuple\n",
    "    assert sum((2, 3, 6)) == 12, \"Should be 12\"\n",
    "           ^^^^^^^^^^^^^^^^^^^^\n",
    "AssertionError: Should be 12\n",
    "\n",
    "======================================================================\n",
    "FAIL: test_sum_tuple (test_sum_unittest.TestSum.test_sum_tuple)\n",
    "----------------------------------------------------------------------\n",
    "Traceback (most recent call last):\n",
    "  File \"C:\\Users\\andre\\OneDrive\\sdev220-lab\\test_sum_unittest.py\", line 9, in test_sum_tuple\n",
    "    self.assertEqual(sum((2, 3, 6)), 12, \"Should be 12\")\n",
    "AssertionError: 11 != 12 : Should be 12\n",
    "\n",
    "----------------------------------------------------------------------\n",
    "Ran 5 tests in 0.000s\n",
    "\n",
    "FAILED (failures=2)"
   ]
  },
  {
   "cell_type": "markdown",
   "id": "60879293",
   "metadata": {},
   "source": [
    "This specific test uses nose2 which can discover all test files and run each of them. The results from this test shows that 5 tests were ran and only 2 out of the 5 failed. It also has the ability to list which tests they were, in this case it indicates test_sum_2 and test_sum_tuple with each of their respective errors. "
   ]
  },
  {
   "cell_type": "markdown",
   "id": "9bb3dde9",
   "metadata": {},
   "source": [
    "## Writng Your First Code "
   ]
  },
  {
   "cell_type": "code",
   "execution_count": null,
   "id": "e8605b8c",
   "metadata": {},
   "outputs": [],
   "source": [
    "# This is the __init__.py file with a function called sum.\n",
    "\n",
    "\"\"\" \n",
    "This code will define a function that will\n",
    "take an iterable, and add the values together.\n",
    "\"\"\"\n",
    "\n",
    "def sum(arg):\n",
    "    total = 0 \n",
    "    for val in arg: \n",
    "        total += val \n",
    "\n",
    "    return total "
   ]
  },
  {
   "cell_type": "code",
   "execution_count": null,
   "id": "16a770d6",
   "metadata": {},
   "outputs": [],
   "source": [
    "# This is the test.py file. \n",
    "\n",
    "\"\"\" \n",
    "This code will execute two simple tests that will define methods  \n",
    "to test a list of integers and test a list of fractions.\n",
    "\"\"\"\n",
    "from fractions import Fraction\n",
    "\n",
    "import unittest \n",
    "\n",
    "from my_sum import sum \n",
    "\n",
    "class TestSum(unittest.TestCase): \n",
    "    def test_list_int(self):\n",
    "        \"\"\"\n",
    "        Test that it can sum a list of integers\n",
    "        \"\"\"\n",
    "        data = [2, 4, 6]\n",
    "        result = sum(data)\n",
    "        self.assertEqual(result, 12)\n",
    "\n",
    "    def test_list_fraction(self): \n",
    "        \"\"\" \n",
    "        Test that it can sum a list of fractions\n",
    "        \"\"\"\n",
    "        data = [Fraction(1, 3), Fraction(1, 4), Fraction(1, 2)]\n",
    "        result = sum(data)\n",
    "        self.assertEqual(result, 1)\n",
    "\n",
    "if __name__ == \"__main__\":\n",
    "    unittest.main()"
   ]
  },
  {
   "cell_type": "markdown",
   "id": "61e7f73d",
   "metadata": {},
   "source": [
    "## This is the shell output from executing test.py:\n",
    "\n",
    "C:\\Users\\andre\\OneDrive\\sdev220-lab\\Module 5 Unittest> python -m unittest test\n",
    "F.\n",
    "======================================================================\n",
    "FAIL: test_list_fraction (test.TestSum.test_list_fraction)\n",
    "Test that it can sum a list of fractions\n",
    "----------------------------------------------------------------------\n",
    "Traceback (most recent call last):\n",
    "  File \"C:\\Users\\andre\\OneDrive\\sdev220-lab\\Module 5 Unittest\\test.py\", line 26, in test_list_fraction\n",
    "    self.assertEqual(result, 1)\n",
    "AssertionError: Fraction(13, 12) != 1\n",
    "\n",
    "----------------------------------------------------------------------\n",
    "Ran 2 tests in 0.002s\n",
    "\n",
    "FAILED (failures=1)"
   ]
  },
  {
   "cell_type": "markdown",
   "id": "8294dbac",
   "metadata": {},
   "source": [
    "The result of this test shows that two different tests were ran, but only one failed. It lists an assertion error that identifies where the error occurred, indicating the incorrect value. "
   ]
  }
 ],
 "metadata": {
  "kernelspec": {
   "display_name": "Python 3",
   "language": "python",
   "name": "python3"
  },
  "language_info": {
   "codemirror_mode": {
    "name": "ipython",
    "version": 3
   },
   "file_extension": ".py",
   "mimetype": "text/x-python",
   "name": "python",
   "nbconvert_exporter": "python",
   "pygments_lexer": "ipython3",
   "version": "3.11.2"
  }
 },
 "nbformat": 4,
 "nbformat_minor": 5
}
