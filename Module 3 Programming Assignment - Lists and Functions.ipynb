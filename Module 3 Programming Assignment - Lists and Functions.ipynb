{
 "cells": [
  {
   "cell_type": "markdown",
   "metadata": {},
   "source": [
    "# Module 3 Programming Assignment - Lists and Functions \n",
    "## This assignment is from the book including sections 7.4-7.7 and 9.1-9.2"
   ]
  },
  {
   "cell_type": "markdown",
   "metadata": {},
   "source": [
    "Exercise 7.4 \n",
    "Make a list called things with these three strings as elements: \"mozzarella\", \"cinderella\", \"salmonella\"."
   ]
  },
  {
   "cell_type": "code",
   "execution_count": 7,
   "metadata": {},
   "outputs": [],
   "source": [
    "\"\"\"\n",
    "This is a code that creates a list called 'things' \n",
    "with three string elements.\n",
    "\"\"\"\n",
    "things = ['mozzarella', 'cinderella', 'salmonella']"
   ]
  },
  {
   "cell_type": "markdown",
   "metadata": {},
   "source": [
    "Exercise 7.5 \n",
    "Capitalize the element in things that refers to a person and then print the list. Did it change the element in the list?"
   ]
  },
  {
   "cell_type": "code",
   "execution_count": 8,
   "metadata": {},
   "outputs": [
    {
     "name": "stdout",
     "output_type": "stream",
     "text": [
      "['mozzarella', 'Cinderella', 'salmonella']\n"
     ]
    }
   ],
   "source": [
    "\"\"\" This is a code that will capitalize \n",
    "the 'person' element in the list then \n",
    "print the resulting list.\n",
    "\"\"\"\n",
    "things[1] = things[1].capitalize()\n",
    "print(things)\n",
    "\n",
    "# The person element 'Cinderella' was capitalized."
   ]
  },
  {
   "cell_type": "markdown",
   "metadata": {},
   "source": [
    "Exercise 7.6\n",
    "Make the cheesy element of things all uppercase and then print the list."
   ]
  },
  {
   "cell_type": "code",
   "execution_count": null,
   "metadata": {},
   "outputs": [
    {
     "name": "stdout",
     "output_type": "stream",
     "text": [
      "['MOZZARELLA', 'Cinderella', 'salmonella']\n"
     ]
    }
   ],
   "source": [
    "\"\"\" \n",
    "This is a code that will change the cheese element \n",
    "'mozzarella'to be uppercase and prints the result.\n",
    "\"\"\"\n",
    "things[0] = things[0].upper()\n",
    "print(things)\n"
   ]
  },
  {
   "cell_type": "markdown",
   "metadata": {},
   "source": [
    "Exercise 7.7 \n",
    "Delete the disease element from things, collect your Nobel Prize, and print the list."
   ]
  },
  {
   "cell_type": "code",
   "execution_count": 10,
   "metadata": {},
   "outputs": [
    {
     "name": "stdout",
     "output_type": "stream",
     "text": [
      "['MOZZARELLA', 'Cinderella']\n"
     ]
    }
   ],
   "source": [
    "\"\"\" \n",
    "This code uses del to delete the disease element\n",
    "'salmonella' from the list and prints the result. \n",
    "\"\"\"\n",
    "things[2]\n",
    "del things[2]\n",
    "print(things)"
   ]
  },
  {
   "cell_type": "markdown",
   "metadata": {},
   "source": [
    "Exercise 9.1 \n",
    "Define a function called good() that returns the following list: ['Harry', 'Ron', 'Hermione']."
   ]
  },
  {
   "cell_type": "code",
   "execution_count": 12,
   "metadata": {},
   "outputs": [
    {
     "data": {
      "text/plain": [
       "['Harry', 'Ron', 'Hermione']"
      ]
     },
     "execution_count": 12,
     "metadata": {},
     "output_type": "execute_result"
    }
   ],
   "source": [
    "\"\"\" \n",
    "This code will define the function good() \n",
    "then return a list of names.\n",
    "\"\"\"\n",
    "def good(): \n",
    "    return ['Harry', 'Ron', 'Hermione']\n",
    "\n",
    "good()"
   ]
  },
  {
   "cell_type": "markdown",
   "metadata": {},
   "source": [
    "Exercise 9.2\n",
    "Define a generator function called get_odds() that returns the odd numbers from range(10). Use a for loop to find and print the third value returned."
   ]
  },
  {
   "cell_type": "code",
   "execution_count": null,
   "metadata": {},
   "outputs": [
    {
     "name": "stdout",
     "output_type": "stream",
     "text": [
      "5\n"
     ]
    }
   ],
   "source": [
    "\"\"\" \n",
    "This code will define a generator function \n",
    "that will return odd numbers from the range(10). \n",
    "It will use a for loop to find and print the third value.\n",
    "\"\"\"\n",
    "def get_odds():             # defines the generator function\n",
    "    for x in range(10):     # for loop to get odd numbers within the range\n",
    "        if x % 2 == 1:      # modulus to return odd numbers\n",
    "            yield x         \n",
    "count = 0 \n",
    "for number in get_odds():   # for loop to return odd numbers \n",
    "    count += 1              # counts through each odd number    \n",
    "    if count == 3:          # uses if statement to find the third odd value\n",
    "        print(number)\n",
    "        break \n"
   ]
  }
 ],
 "metadata": {
  "kernelspec": {
   "display_name": "Python 3",
   "language": "python",
   "name": "python3"
  },
  "language_info": {
   "codemirror_mode": {
    "name": "ipython",
    "version": 3
   },
   "file_extension": ".py",
   "mimetype": "text/x-python",
   "name": "python",
   "nbconvert_exporter": "python",
   "pygments_lexer": "ipython3",
   "version": "3.11.2"
  }
 },
 "nbformat": 4,
 "nbformat_minor": 2
}
